{
  "cells": [
    {
      "cell_type": "code",
      "execution_count": 3,
      "metadata": {
        "colab": {
          "base_uri": "https://localhost:8080/"
        },
        "id": "AarlEsw0G0fJ",
        "outputId": "250c5b9a-b96b-4f30-c6a4-f1479dcda44e"
      },
      "outputs": [
        {
          "output_type": "stream",
          "name": "stderr",
          "text": [
            "[nltk_data] Downloading package stopwords to /root/nltk_data...\n",
            "[nltk_data]   Package stopwords is already up-to-date!\n"
          ]
        },
        {
          "output_type": "stream",
          "name": "stdout",
          "text": [
            "Accuracy: 0.8756571708032767\n",
            "Enter a tweet: I Hate you\n",
            "Prediction: No hate and Offensive speech\n"
          ]
        }
      ],
      "source": [
        "import pandas as pd\n",
        "import numpy as np\n",
        "import re\n",
        "import nltk\n",
        "import string\n",
        "from nltk.corpus import stopwords\n",
        "from nltk.stem import SnowballStemmer\n",
        "from sklearn.feature_extraction.text import CountVectorizer\n",
        "from sklearn.model_selection import train_test_split\n",
        "from sklearn.tree import DecisionTreeClassifier\n",
        "from sklearn.preprocessing import LabelEncoder\n",
        "from sklearn.metrics import accuracy_score\n",
        "\n",
        "# Download necessary NLTK data\n",
        "nltk.download('stopwords')\n",
        "\n",
        "# Initialize the stopwords and stemmer\n",
        "stopword = set(stopwords.words(\"english\"))\n",
        "stemmer = SnowballStemmer(\"english\")\n",
        "\n",
        "# Load the dataset\n",
        "df = pd.read_csv(\"twitter_data.csv\")\n",
        "\n",
        "# Map the 'class' column to the 'labels' column\n",
        "df['labels'] = df['class'].map({\n",
        "    0: \"Hate Speech Detected\",\n",
        "    1: \"Offensive language detected\",\n",
        "    2: \"No hate and Offensive speech\"\n",
        "})\n",
        "\n",
        "# Keep only the relevant columns\n",
        "df = df[['tweet', 'labels']]\n",
        "\n",
        "# Define the text cleaning function\n",
        "def clean(text):\n",
        "    text = str(text).lower()\n",
        "    text = re.sub(r'\\[.*?\\]', '', text)  # Remove text inside square brackets\n",
        "    text = re.sub(r'https?://\\S+|www\\.\\S+', '', text)  # Remove URLs\n",
        "    text = re.sub(r'<.*?>+', '', text)  # Remove HTML tags\n",
        "    text = re.sub(r'[%s]' % re.escape(string.punctuation), '', text)  # Remove punctuation\n",
        "    text = re.sub(r'\\n', '', text)  # Remove newlines\n",
        "    text = re.sub(r'\\w*\\d\\w*', '', text)  # Remove words with digits\n",
        "    text = [word for word in text.split(' ') if word not in stopword]  # Remove stopwords\n",
        "    text = \" \".join(text)\n",
        "    text = [stemmer.stem(word) for word in text.split(' ')]  # Apply stemming\n",
        "    text = \" \".join(text)\n",
        "    return text\n",
        "\n",
        "# Apply the clean function to the 'tweet' column\n",
        "df[\"tweet\"] = df[\"tweet\"].apply(clean)\n",
        "\n",
        "# Convert text and labels to numpy arrays\n",
        "x = np.array(df[\"tweet\"])\n",
        "y = np.array(df[\"labels\"])\n",
        "\n",
        "# Vectorize the text data using CountVectorizer\n",
        "cv = CountVectorizer()\n",
        "x = cv.fit_transform(x)\n",
        "\n",
        "# Encode labels (since they are string, DecisionTreeClassifier needs them numeric)\n",
        "le = LabelEncoder()\n",
        "y = le.fit_transform(y)\n",
        "\n",
        "# Split data into training and testing sets\n",
        "X_train, X_test, y_train, y_test = train_test_split(x, y, test_size=0.33, random_state=42)\n",
        "\n",
        "# Initialize and train the DecisionTreeClassifier\n",
        "clf = DecisionTreeClassifier()\n",
        "clf.fit(X_train, y_train)\n",
        "\n",
        "# Predict and evaluate the model\n",
        "y_pred = clf.predict(X_test)\n",
        "print(f\"Accuracy: {accuracy_score(y_test, y_pred)}\")\n",
        "\n",
        "# Function to predict new tweets\n",
        "def predict_tweet(tweet):\n",
        "    # Clean and vectorize the new tweet\n",
        "    tweet = clean(tweet)  # Clean the tweet text\n",
        "    tweet_vect = cv.transform([tweet])  # Transform the cleaned tweet into the same format as the training data\n",
        "    prediction = clf.predict(tweet_vect)  # Make the prediction\n",
        "\n",
        "    # Decode the numeric prediction to the corresponding label\n",
        "    label = le.inverse_transform(prediction)\n",
        "\n",
        "    return label[0]\n",
        "\n",
        "# Input: User enters a tweet\n",
        "user_input = input(\"Enter a tweet: \")\n",
        "\n",
        "# Get the prediction for the entered tweet\n",
        "result = predict_tweet(user_input)\n",
        "print(f\"Prediction: {result}\")\n"
      ]
    }
  ],
  "metadata": {
    "colab": {
      "provenance": []
    },
    "kernelspec": {
      "display_name": "Python 3",
      "name": "python3"
    },
    "language_info": {
      "name": "python"
    }
  },
  "nbformat": 4,
  "nbformat_minor": 0
}